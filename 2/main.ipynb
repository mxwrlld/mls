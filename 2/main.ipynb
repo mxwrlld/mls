{
 "cells": [
  {
   "cell_type": "code",
   "execution_count": null,
   "metadata": {},
   "outputs": [],
   "source": [
    "# pip install -r .\\requirments.txt\n",
    "import re\n",
    "import nltk\n",
    "import numpy as np\n",
    "import pandas as pd"
   ]
  },
  {
   "cell_type": "code",
   "execution_count": null,
   "metadata": {},
   "outputs": [],
   "source": [
    "# ==================== Обработка исходных данных ==================== #\n",
    "filename = \"spam.csv\"\n",
    "data = pd.read_csv(filename, encoding='latin-1')\n",
    "data = data.drop([\"Unnamed: 2\", \"Unnamed: 3\", \"Unnamed: 4\"], axis=1)\n",
    "data = data.rename(columns={\"v2\" : \"text\", \"v1\":\"label\"})\n",
    "data.head()"
   ]
  },
  {
   "cell_type": "code",
   "execution_count": null,
   "metadata": {},
   "outputs": [],
   "source": [
    "# ==================== Токенизация ==================== #\n",
    "def tokenize(method):\n",
    "    ham_tokens = np.ndarray(0)\n",
    "    spam_tokens = np.ndarray(0)\n",
    "    \n",
    "    for i in range(data.index.start, data.index.stop):\n",
    "        tokens = method(data.loc[i][\"text\"])\n",
    "        if len(tokens) != 0:\n",
    "            lower_case_tokens = np.char.lower(tokens)\n",
    "            if data.loc[i][\"label\"] == \"ham\":\n",
    "                ham_tokens = np.concatenate((ham_tokens, lower_case_tokens))\n",
    "            else:\n",
    "                spam_tokens = np.concatenate((spam_tokens, lower_case_tokens))\n",
    "    \n",
    "    return  ham_tokens, spam_tokens\n",
    "\n",
    "\n",
    "method = \"nltk\" if 1 else \"regex\"\n",
    "match method: \n",
    "    case \"nltk\":\n",
    "        # Punkt Tokenizer\n",
    "        # nltk.download(\"punkt\")\n",
    "        ham_tokens, spam_tokens = tokenize(nltk.word_tokenize)\n",
    "    case \"regex\":\n",
    "        # Регулярные выражения\n",
    "        regural_tokenize = lambda text: re.findall('\\w+', text)\n",
    "        ham_tokens, spam_tokens = tokenize(regural_tokenize)"
   ]
  },
  {
   "cell_type": "code",
   "execution_count": null,
   "metadata": {},
   "outputs": [],
   "source": [
    "# ==================== Удаление стоп-слов ==================== #\n",
    "# nltk.download(\"stopwords\")\n",
    "stop_words = nltk.corpus.stopwords.words('english')\n",
    "\n",
    "is_stop_words = lambda token: True if token in stop_words else False\n",
    "v_is_stop_words = np.vectorize(is_stop_words)\n",
    "ham_tokens_w_sw = ham_tokens[v_is_stop_words(ham_tokens) == False]\n",
    "spam_tokens_w_sw = spam_tokens[v_is_stop_words(spam_tokens) == False]\n",
    "\n",
    "print(\"HAM: \\tЧисло токенов: \", ham_tokens.shape[0], \"Число токенов без стоп-слов: \", ham_tokens_w_sw.shape[0])\n",
    "print(\"SPAM: \\tЧисло токенов: \", spam_tokens.shape[0], \"Число токенов без стоп-слов: \", spam_tokens_w_sw.shape[0])"
   ]
  },
  {
   "cell_type": "code",
   "execution_count": null,
   "metadata": {},
   "outputs": [],
   "source": [
    "# ==================== Удаление знаков препинания ==================== #\n",
    "import string\n",
    "ham_tokens_w_sw = ham_tokens_w_sw.translate(None, string.punctuation)"
   ]
  },
  {
   "cell_type": "code",
   "execution_count": null,
   "metadata": {},
   "outputs": [],
   "source": [
    "nlp_words=nltk.FreqDist(ham_tokens_w_sw)\n",
    "nlp_words.plot(30);"
   ]
  }
 ],
 "metadata": {
  "kernelspec": {
   "display_name": "Python 3.10.7 ('.venv': venv)",
   "language": "python",
   "name": "python3"
  },
  "language_info": {
   "codemirror_mode": {
    "name": "ipython",
    "version": 3
   },
   "file_extension": ".py",
   "mimetype": "text/x-python",
   "name": "python",
   "nbconvert_exporter": "python",
   "pygments_lexer": "ipython3",
   "version": "3.10.7"
  },
  "orig_nbformat": 4,
  "vscode": {
   "interpreter": {
    "hash": "bb679d0b7d9b56f383cc949f4ec960a22048549783876f23c81dab29679ec41b"
   }
  }
 },
 "nbformat": 4,
 "nbformat_minor": 2
}
